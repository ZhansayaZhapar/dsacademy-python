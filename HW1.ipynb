{
 "cells": [
  {
   "cell_type": "markdown",
   "metadata": {},
   "source": [
    "# 1"
   ]
  },
  {
   "cell_type": "code",
   "execution_count": 1,
   "metadata": {},
   "outputs": [
    {
     "name": "stdout",
     "output_type": "stream",
     "text": [
      "2\n",
      "8\n",
      "13\n",
      "1\n",
      "12\n"
     ]
    }
   ],
   "source": [
    "arr = [2, 3, 8, 7, 13, 15, 1, 0, 12]\n",
    "\n",
    "for i in range(len(arr)):\n",
    "    if i%2 == 0:\n",
    "        print(arr[i])"
   ]
  },
  {
   "cell_type": "markdown",
   "metadata": {},
   "source": [
    "# 2"
   ]
  },
  {
   "cell_type": "code",
   "execution_count": 2,
   "metadata": {},
   "outputs": [
    {
     "name": "stdout",
     "output_type": "stream",
     "text": [
      "2\n",
      "8\n",
      "0\n",
      "12\n"
     ]
    }
   ],
   "source": [
    "for i in range(len(arr)):\n",
    "    if arr[i]%2 == 0:\n",
    "        print(arr[i])"
   ]
  },
  {
   "cell_type": "markdown",
   "metadata": {},
   "source": [
    "# 3"
   ]
  },
  {
   "cell_type": "code",
   "execution_count": 3,
   "metadata": {},
   "outputs": [
    {
     "name": "stdout",
     "output_type": "stream",
     "text": [
      "2 3\n"
     ]
    }
   ],
   "source": [
    "arr = [-1, 2, 3, -1, -2]\n",
    "\n",
    "for i in range(len(arr) - 1):\n",
    "    if (arr[i] >= 0 and arr[i+1] >= 0) or (arr[i] < 0 and arr[i+1] < 0):\n",
    "        print(arr[i], arr[i+1])\n",
    "        break"
   ]
  },
  {
   "cell_type": "markdown",
   "metadata": {},
   "source": [
    "# 4"
   ]
  },
  {
   "cell_type": "code",
   "execution_count": 4,
   "metadata": {},
   "outputs": [
    {
     "name": "stdout",
     "output_type": "stream",
     "text": [
      "160\n"
     ]
    }
   ],
   "source": [
    "heights = [165, 163, 160, 160, 157, 157, 155, 154]\n",
    "Height = int(input())   "
   ]
  },
  {
   "cell_type": "code",
   "execution_count": 5,
   "metadata": {},
   "outputs": [
    {
     "name": "stdout",
     "output_type": "stream",
     "text": [
      "5\n"
     ]
    }
   ],
   "source": [
    "for i in range(len(heights)):\n",
    "    if (Height > heights[i]):\n",
    "        print(i + 1)\n",
    "        break "
   ]
  },
  {
   "cell_type": "markdown",
   "metadata": {},
   "source": [
    "# 5"
   ]
  },
  {
   "cell_type": "code",
   "execution_count": 148,
   "metadata": {},
   "outputs": [
    {
     "name": "stdout",
     "output_type": "stream",
     "text": [
      "3\n"
     ]
    }
   ],
   "source": [
    "arr = [1, 2, 2, 3, 3, 3]\n",
    "print(len(set(arr)))"
   ]
  },
  {
   "cell_type": "code",
   "execution_count": 150,
   "metadata": {},
   "outputs": [
    {
     "name": "stdout",
     "output_type": "stream",
     "text": [
      "3\n"
     ]
    }
   ],
   "source": [
    "new_arr = []\n",
    "\n",
    "for element in arr: \n",
    "    if element not in new_arr: \n",
    "        new_arr.append(element) \n",
    "\n",
    "print(len(new_arr))"
   ]
  },
  {
   "cell_type": "markdown",
   "metadata": {},
   "source": [
    "# 6"
   ]
  },
  {
   "cell_type": "code",
   "execution_count": 208,
   "metadata": {},
   "outputs": [
    {
     "name": "stdout",
     "output_type": "stream",
     "text": [
      "[3, 4, 1, 2, 5]\n"
     ]
    }
   ],
   "source": [
    "arr = [3, 4, 5, 2, 1]\n",
    "\n",
    "for i in range(len(arr)):\n",
    "    if i == 0:\n",
    "        min_val = arr[i]\n",
    "        min_index = i\n",
    "        max_val = arr[i]\n",
    "        max_index = i\n",
    "    else:\n",
    "        if arr[i] < min_val:\n",
    "            min_val = arr[i]\n",
    "            min_index = i\n",
    "        if arr[i] > max_val:\n",
    "            max_val = arr[i]\n",
    "            max_index = i\n",
    "\n",
    "arr[min_index] = max_val\n",
    "arr[max_index] = min_val\n",
    "\n",
    "\n",
    "print(arr)\n"
   ]
  },
  {
   "cell_type": "markdown",
   "metadata": {},
   "source": [
    "# 7"
   ]
  },
  {
   "cell_type": "code",
   "execution_count": 61,
   "metadata": {},
   "outputs": [
    {
     "name": "stdout",
     "output_type": "stream",
     "text": [
      "[1, 4, 5]\n"
     ]
    }
   ],
   "source": [
    "arr = [1, 2, 2, 3, 3, 3, 4, 5, 6, 6]\n",
    "new_arr = []\n",
    "\n",
    "for i in range(len(arr)):\n",
    "    count = 0\n",
    "    for element in arr:\n",
    "        if arr[i] == element:\n",
    "            count += 1\n",
    "    if count == 1:\n",
    "         new_arr.append(arr[i])\n",
    "\n",
    "\n",
    "print(new_arr)\n"
   ]
  },
  {
   "cell_type": "markdown",
   "metadata": {},
   "source": [
    "# 8"
   ]
  },
  {
   "cell_type": "code",
   "execution_count": 69,
   "metadata": {},
   "outputs": [
    {
     "name": "stdout",
     "output_type": "stream",
     "text": [
      "10 3 \n",
      "8 10\n",
      "2 5\n",
      "3 6\n",
      "I.....I...\n"
     ]
    }
   ],
   "source": [
    "N, K = map(int, input().split())\n",
    "\n",
    "output = []\n",
    "\n",
    "for i in range(N):\n",
    "    output.append(\"I\")\n",
    "\n",
    "for i in range(K):\n",
    "    start, end = map(int, input().split())\n",
    "    for j in range(start, end + 1):\n",
    "        output[j - 1] = \".\"\n",
    "               \n",
    "str = \"\"\n",
    "print(str.join(output))"
   ]
  },
  {
   "cell_type": "markdown",
   "metadata": {},
   "source": [
    "# 9"
   ]
  },
  {
   "cell_type": "code",
   "execution_count": 76,
   "metadata": {},
   "outputs": [
    {
     "name": "stdout",
     "output_type": "stream",
     "text": [
      "1 8\n",
      "2 7\n",
      "3 6\n",
      "4 5\n",
      "5 4\n",
      "6 3\n",
      "7 2\n",
      "8 1\n",
      "NO\n"
     ]
    }
   ],
   "source": [
    "x = []\n",
    "y = []\n",
    "\n",
    "for i in range(8):\n",
    "    xy = input()\n",
    "    x.append(int(xy.split()[0]))\n",
    "    y.append(int(xy.split()[1]))\n",
    "    \n",
    "\n",
    "for i in range(8):\n",
    "    count_x = 0\n",
    "    for element in x:\n",
    "        if x[i] == element:\n",
    "            count_x += 1\n",
    "    if count_x > 1:\n",
    "        break\n",
    "    count_y = 0\n",
    "    for element in y:\n",
    "        if y[i] == element:\n",
    "            count_y += 1\n",
    "    if count_y > 1:\n",
    "        break\n",
    "\n",
    "if count_x == 1 and count_y == 1:\n",
    "    print(\"NO\")\n",
    "else:\n",
    "    print(\"YES\")"
   ]
  },
  {
   "cell_type": "markdown",
   "metadata": {},
   "source": [
    "# 10"
   ]
  },
  {
   "cell_type": "code",
   "execution_count": 10,
   "metadata": {},
   "outputs": [
    {
     "name": "stdout",
     "output_type": "stream",
     "text": [
      "3 \n",
      "0 1 2\n",
      "1 5 3\n",
      "2 4 6\n"
     ]
    }
   ],
   "source": [
    "n = int(input())\n",
    "\n",
    "mtx = []\n",
    "for i in range(n):\n",
    "    line = input()\n",
    "    mtx.append(line.split())\n",
    "\n",
    "for i in range(n):\n",
    "    for j in range(n):\n",
    "        mtx[i][j] = int(mtx[i][j])"
   ]
  },
  {
   "cell_type": "code",
   "execution_count": 11,
   "metadata": {},
   "outputs": [
    {
     "data": {
      "text/plain": [
       "[[0, 1, 2], [1, 5, 3], [2, 4, 6]]"
      ]
     },
     "execution_count": 11,
     "metadata": {},
     "output_type": "execute_result"
    }
   ],
   "source": [
    "mtx"
   ]
  },
  {
   "cell_type": "code",
   "execution_count": 12,
   "metadata": {},
   "outputs": [
    {
     "name": "stdout",
     "output_type": "stream",
     "text": [
      "NO\n"
     ]
    }
   ],
   "source": [
    "bool = True\n",
    "\n",
    "for i in range(n):\n",
    "    for j in range(n):\n",
    "        if i != j:\n",
    "            if mtx[i][j] != mtx[j][i]:\n",
    "                bool = False\n",
    "\n",
    "if bool == True:\n",
    "    print(\"YES\")\n",
    "else:\n",
    "    print(\"NO\")"
   ]
  },
  {
   "cell_type": "markdown",
   "metadata": {},
   "source": [
    "# 11"
   ]
  },
  {
   "cell_type": "code",
   "execution_count": 39,
   "metadata": {},
   "outputs": [
    {
     "name": "stdout",
     "output_type": "stream",
     "text": [
      "3 2\n",
      "2 2\n",
      "5 4\n",
      "4 5\n"
     ]
    }
   ],
   "source": [
    "n, m = map(int, input().split())\n",
    "\n",
    "mtx = []\n",
    "for i in range(n):\n",
    "    line = input()\n",
    "    mtx.append(line.split())\n",
    "\n",
    "for i in range(n):\n",
    "    for j in range(m):\n",
    "        mtx[i][j] = int(mtx[i][j])"
   ]
  },
  {
   "cell_type": "code",
   "execution_count": 40,
   "metadata": {},
   "outputs": [
    {
     "data": {
      "text/plain": [
       "[[2, 2], [5, 4], [4, 5]]"
      ]
     },
     "execution_count": 40,
     "metadata": {},
     "output_type": "execute_result"
    }
   ],
   "source": [
    "mtx"
   ]
  },
  {
   "cell_type": "code",
   "execution_count": 41,
   "metadata": {},
   "outputs": [
    {
     "name": "stdout",
     "output_type": "stream",
     "text": [
      "9\n",
      "1\n"
     ]
    }
   ],
   "source": [
    "ans = []\n",
    "\n",
    "for i in range(n):\n",
    "    sum = 0\n",
    "    for j in range(m):\n",
    "        sum = sum + mtx[i][j]\n",
    "    ans.append(sum)\n",
    "\n",
    "for i in range(n):\n",
    "    if i == 0:\n",
    "        max_val = ans[i]\n",
    "        max_index = i\n",
    "    elif ans[i] > max_val:\n",
    "        max_val = ans[i]\n",
    "        max_index = i\n",
    "        \n",
    "        \n",
    "print(max_val)\n",
    "print(max_index)"
   ]
  },
  {
   "cell_type": "markdown",
   "metadata": {},
   "source": [
    "# 12"
   ]
  },
  {
   "cell_type": "code",
   "execution_count": 42,
   "metadata": {},
   "outputs": [
    {
     "name": "stdout",
     "output_type": "stream",
     "text": [
      "3 3\n",
      "3 1 2\n",
      "1 3 4\n",
      "3 3 3\n"
     ]
    }
   ],
   "source": [
    "n, m = map(int, input().split())\n",
    "\n",
    "mtx = []\n",
    "for i in range(n):\n",
    "    line = input()\n",
    "    mtx.append(line.split())\n",
    "\n",
    "for i in range(n):\n",
    "    for j in range(m):\n",
    "        mtx[i][j] = int(mtx[i][j])"
   ]
  },
  {
   "cell_type": "code",
   "execution_count": 46,
   "metadata": {},
   "outputs": [
    {
     "data": {
      "text/plain": [
       "[[3, 1, 2], [1, 3, 4], [3, 3, 3]]"
      ]
     },
     "execution_count": 46,
     "metadata": {},
     "output_type": "execute_result"
    }
   ],
   "source": [
    "mtx"
   ]
  },
  {
   "cell_type": "code",
   "execution_count": 48,
   "metadata": {},
   "outputs": [
    {
     "name": "stdout",
     "output_type": "stream",
     "text": [
      "4\n",
      "1 2\n"
     ]
    }
   ],
   "source": [
    "for i in range(n):\n",
    "    for j in range(m):\n",
    "        if i == 0 and j == 0:\n",
    "            max_val = mtx[i][j]\n",
    "            row = i\n",
    "            col = j\n",
    "        elif mtx[i][j] > max_val:\n",
    "            max_val = mtx[i][j]\n",
    "            row = i\n",
    "            col = j\n",
    "\n",
    "print(max_val)\n",
    "print(row, col)"
   ]
  },
  {
   "cell_type": "markdown",
   "metadata": {},
   "source": [
    "# 13"
   ]
  },
  {
   "cell_type": "code",
   "execution_count": 57,
   "metadata": {},
   "outputs": [
    {
     "name": "stdout",
     "output_type": "stream",
     "text": [
      "3 3\n",
      "1 2 7 \n",
      "1 3 5\n",
      "4 1 7\n"
     ]
    }
   ],
   "source": [
    "n, m = map(int, input().split())\n",
    "\n",
    "mtx = []\n",
    "for i in range(n):\n",
    "    line = input()\n",
    "    mtx.append(line.split())\n",
    "\n",
    "for i in range(n):\n",
    "    for j in range(m):\n",
    "        mtx[i][j] = int(mtx[i][j])"
   ]
  },
  {
   "cell_type": "code",
   "execution_count": 58,
   "metadata": {},
   "outputs": [
    {
     "data": {
      "text/plain": [
       "[[1, 2, 7], [1, 3, 5], [4, 1, 7]]"
      ]
     },
     "execution_count": 58,
     "metadata": {},
     "output_type": "execute_result"
    }
   ],
   "source": [
    "mtx"
   ]
  },
  {
   "cell_type": "code",
   "execution_count": 60,
   "metadata": {},
   "outputs": [
    {
     "name": "stdout",
     "output_type": "stream",
     "text": [
      "2\n"
     ]
    }
   ],
   "source": [
    "for i in range(n):\n",
    "    sum = 0\n",
    "    for j in range(m):\n",
    "        sum = sum + mtx[i][j]\n",
    "        if i == 0 and j == 0:\n",
    "            row = i\n",
    "        elif mtx[i][j] > max_val:\n",
    "            row = i\n",
    "        elif mtx[i][j] == max_val and sum > max_sum:\n",
    "            row = i\n",
    "        max_sum = sum\n",
    "print(row)\n"
   ]
  },
  {
   "cell_type": "markdown",
   "metadata": {},
   "source": [
    "# 14"
   ]
  },
  {
   "cell_type": "code",
   "execution_count": 82,
   "metadata": {},
   "outputs": [
    {
     "name": "stdout",
     "output_type": "stream",
     "text": [
      "3 2\n",
      "2\n",
      "1 1\n",
      "2 2\n"
     ]
    }
   ],
   "source": [
    "n, m = map(int, input().split())\n",
    "\n",
    "w = int(input())\n",
    "\n",
    "mtx = []\n",
    "for i in range(w):\n",
    "    line = input()\n",
    "    mtx.append(line.split())\n",
    "    \n",
    "\n",
    "for i in range(w):\n",
    "    for j in range(m):\n",
    "        mtx[i][j] = int(mtx[i][j])\n"
   ]
  },
  {
   "cell_type": "code",
   "execution_count": 73,
   "metadata": {},
   "outputs": [
    {
     "data": {
      "text/plain": [
       "2"
      ]
     },
     "execution_count": 73,
     "metadata": {},
     "output_type": "execute_result"
    }
   ],
   "source": [
    "len(mtx)"
   ]
  },
  {
   "cell_type": "code",
   "execution_count": 79,
   "metadata": {},
   "outputs": [
    {
     "data": {
      "text/plain": [
       "[[1, 1], [2, 2]]"
      ]
     },
     "execution_count": 79,
     "metadata": {},
     "output_type": "execute_result"
    }
   ],
   "source": [
    "mtx"
   ]
  },
  {
   "cell_type": "code",
   "execution_count": 64,
   "metadata": {},
   "outputs": [],
   "source": [
    "import numpy as np\n",
    "desk = np.random.randint(low = 1, high = 10, size = (n, m))"
   ]
  },
  {
   "cell_type": "code",
   "execution_count": 86,
   "metadata": {},
   "outputs": [
    {
     "name": "stdout",
     "output_type": "stream",
     "text": [
      "[[0 2]\n",
      " [3 0]\n",
      " [8 5]]\n"
     ]
    }
   ],
   "source": [
    "for i in range(1, n + 1):\n",
    "    for j in range(1, m + 1):        \n",
    "        for k in range(len(mtx)):\n",
    "            if i == mtx[k][0] and j == mtx[k][1]:\n",
    "                desk[i - 1][j - 1] = 0\n",
    "\n",
    "for i in range(n):\n",
    "    for j in range(m):\n",
    "        if (desk[n][m])\n",
    "        \n",
    "print(desk)"
   ]
  },
  {
   "cell_type": "code",
   "execution_count": null,
   "metadata": {},
   "outputs": [],
   "source": []
  }
 ],
 "metadata": {
  "kernelspec": {
   "display_name": "Python 3",
   "language": "python",
   "name": "python3"
  },
  "language_info": {
   "codemirror_mode": {
    "name": "ipython",
    "version": 3
   },
   "file_extension": ".py",
   "mimetype": "text/x-python",
   "name": "python",
   "nbconvert_exporter": "python",
   "pygments_lexer": "ipython3",
   "version": "3.7.4"
  }
 },
 "nbformat": 4,
 "nbformat_minor": 2
}
